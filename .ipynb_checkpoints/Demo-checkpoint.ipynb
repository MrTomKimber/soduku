{
 "cells": [
  {
   "cell_type": "code",
   "execution_count": 1,
   "metadata": {},
   "outputs": [],
   "source": [
    "import soduku\n",
    "import json"
   ]
  },
  {
   "cell_type": "code",
   "execution_count": 2,
   "metadata": {},
   "outputs": [
    {
     "name": "stdout",
     "output_type": "stream",
     "text": [
      "['L6: #413113060', 'H1', 'L5: #787219990']\n"
     ]
    }
   ],
   "source": [
    "jfile = open(\"puzzles.json\", \"r\")\n",
    "jdata = json.load(jfile)\n",
    "jfile.close()\n",
    "jdata\n",
    "pnames = [p['name'] for p in jdata['soduku']]\n",
    "print (pnames)\n",
    "pick = 'H1'\n",
    "pick = 'L5: #787219990'\n",
    "puzzle_data = [p['content'] for p in jdata['soduku'] if p['name']==pick][0]"
   ]
  },
  {
   "cell_type": "code",
   "execution_count": null,
   "metadata": {},
   "outputs": [],
   "source": []
  },
  {
   "cell_type": "code",
   "execution_count": 3,
   "metadata": {},
   "outputs": [],
   "source": [
    "s  = soduku.soduku()"
   ]
  },
  {
   "cell_type": "code",
   "execution_count": 4,
   "metadata": {},
   "outputs": [],
   "source": [
    "for i in range(0,9):\n",
    "    s.fillrow(i,[p for p in puzzle_data[i*9: (i*9+9)]])\n",
    "\n",
    "\n",
    "# Setup starting grid with \"hard\" problem\n",
    "#s.fillrow(0,[0,0,0, 6,0,5, 3,0,0])\n",
    "#s.fillrow(1,[3,4,0, 0,1,0, 8,0,0])\n",
    "#s.fillrow(2,[6,0,9, 0,0,4, 0,0,1])\n",
    "\n",
    "#s.fillrow(3,[0,0,0, 0,0,0, 9,2,0])\n",
    "#s.fillrow(4,[2,0,0, 0,0,0, 0,0,6])\n",
    "#s.fillrow(5,[0,6,5, 0,0,0, 0,0,0])\n",
    "\n",
    "#s.fillrow(6,[1,0,0, 8,0,0, 7,0,9])\n",
    "#s.fillrow(7,[0,0,4, 0,6,0, 0,3,2])\n",
    "#s.fillrow(8,[0,0,3, 7,0,1, 0,0,0])"
   ]
  },
  {
   "cell_type": "code",
   "execution_count": 5,
   "metadata": {},
   "outputs": [
    {
     "name": "stdout",
     "output_type": "stream",
     "text": [
      "     0   1   2   3   4   5   6   7   8   \n",
      "   ╔═══╤═══╤═══╦═══╤═══╤═══╦═══╤═══╤═══╗ \n",
      "0  ║ 1 │   │   ║ 7 │   │   ║ 9 │   │   ║ \n",
      "   ╟───┼───┼───╫───┼───┼───╫───┼───┼───╢ \n",
      "1  ║   │ 4 │   ║ 5 │   │   ║   │   │ 8 ║ \n",
      "   ╟───┼───┼───╫───┼───┼───╫───┼───┼───╢ \n",
      "2  ║   │   │   ║ 4 │ 9 │ 3 ║ 1 │   │   ║ \n",
      "   ╠═══╪═══╪═══╬═══╪═══╪═══╬═══╪═══╪═══╣ \n",
      "3  ║   │   │   ║   │ 4 │   ║   │   │   ║ \n",
      "   ╟───┼───┼───╫───┼───┼───╫───┼───┼───╢ \n",
      "4  ║   │ 6 │   ║   │   │   ║   │ 1 │   ║ \n",
      "   ╟───┼───┼───╫───┼───┼───╫───┼───┼───╢ \n",
      "5  ║ 8 │   │   ║ 9 │   │ 7 ║ 3 │   │   ║ \n",
      "   ╠═══╪═══╪═══╬═══╪═══╪═══╬═══╪═══╪═══╣ \n",
      "6  ║   │   │   ║   │   │   ║   │   │   ║ \n",
      "   ╟───┼───┼───╫───┼───┼───╫───┼───┼───╢ \n",
      "7  ║   │ 2 │   ║   │ 8 │ 6 ║ 7 │   │   ║ \n",
      "   ╟───┼───┼───╫───┼───┼───╫───┼───┼───╢ \n",
      "8  ║   │ 8 │ 9 ║   │   │   ║   │   │   ║ \n",
      "   ╚═══╧═══╧═══╩═══╧═══╧═══╩═══╧═══╧═══╝ \n",
      "\n"
     ]
    }
   ],
   "source": [
    "print(s)"
   ]
  },
  {
   "cell_type": "code",
   "execution_count": 6,
   "metadata": {},
   "outputs": [],
   "source": [
    "# Solve the grid, recording \"moves\" in the steps variable\n",
    "steps = s.fill_known()"
   ]
  },
  {
   "cell_type": "code",
   "execution_count": 7,
   "metadata": {},
   "outputs": [
    {
     "data": {
      "text/plain": [
       "[[(1, 0, 9)],\n",
       " [(0, 5, 8)],\n",
       " [(3, 1, 9)],\n",
       " [(4, 8, 9)],\n",
       " [(6, 5, 9)],\n",
       " [(7, 7, 9)],\n",
       " [(2, 2, 8)],\n",
       " [(3, 3, 6)],\n",
       " [(8, 5, 4)],\n",
       " [(4, 3, 8)],\n",
       " [(4, 4, 3)]]"
      ]
     },
     "execution_count": 7,
     "metadata": {},
     "output_type": "execute_result"
    }
   ],
   "source": [
    "steps"
   ]
  },
  {
   "cell_type": "code",
   "execution_count": 8,
   "metadata": {},
   "outputs": [
    {
     "name": "stdout",
     "output_type": "stream",
     "text": [
      "     0   1   2   3   4   5   6   7   8   \n",
      "   ╔═══╤═══╤═══╦═══╤═══╤═══╦═══╤═══╤═══╗ \n",
      "0  ║ 1 │   │   ║ 7 │   │ 8 ║ 9 │   │   ║ \n",
      "   ╟───┼───┼───╫───┼───┼───╫───┼───┼───╢ \n",
      "1  ║ 9 │ 4 │   ║ 5 │   │   ║   │   │ 8 ║ \n",
      "   ╟───┼───┼───╫───┼───┼───╫───┼───┼───╢ \n",
      "2  ║   │   │ 8 ║ 4 │ 9 │ 3 ║ 1 │   │   ║ \n",
      "   ╠═══╪═══╪═══╬═══╪═══╪═══╬═══╪═══╪═══╣ \n",
      "3  ║   │ 9 │   ║ 6 │ 4 │   ║   │   │   ║ \n",
      "   ╟───┼───┼───╫───┼───┼───╫───┼───┼───╢ \n",
      "4  ║   │ 6 │   ║ 8 │ 3 │   ║   │ 1 │ 9 ║ \n",
      "   ╟───┼───┼───╫───┼───┼───╫───┼───┼───╢ \n",
      "5  ║ 8 │   │   ║ 9 │   │ 7 ║ 3 │   │   ║ \n",
      "   ╠═══╪═══╪═══╬═══╪═══╪═══╬═══╪═══╪═══╣ \n",
      "6  ║   │   │   ║   │   │ 9 ║   │   │   ║ \n",
      "   ╟───┼───┼───╫───┼───┼───╫───┼───┼───╢ \n",
      "7  ║   │ 2 │   ║   │ 8 │ 6 ║ 7 │ 9 │   ║ \n",
      "   ╟───┼───┼───╫───┼───┼───╫───┼───┼───╢ \n",
      "8  ║   │ 8 │ 9 ║   │   │ 4 ║   │   │   ║ \n",
      "   ╚═══╧═══╧═══╩═══╧═══╧═══╩═══╧═══╧═══╝ \n",
      "\n"
     ]
    }
   ],
   "source": [
    "# Completed Grid\n",
    "print(s)"
   ]
  },
  {
   "cell_type": "code",
   "execution_count": 9,
   "metadata": {},
   "outputs": [],
   "source": [
    "# To Do: Add solving strategies for Locked Candidates, Naked Doubles, Naked Triplets, XY Wings"
   ]
  },
  {
   "cell_type": "code",
   "execution_count": null,
   "metadata": {},
   "outputs": [],
   "source": []
  }
 ],
 "metadata": {
  "kernelspec": {
   "display_name": "py36",
   "language": "python",
   "name": "py36"
  },
  "language_info": {
   "codemirror_mode": {
    "name": "ipython",
    "version": 3
   },
   "file_extension": ".py",
   "mimetype": "text/x-python",
   "name": "python",
   "nbconvert_exporter": "python",
   "pygments_lexer": "ipython3",
   "version": "3.6.8"
  }
 },
 "nbformat": 4,
 "nbformat_minor": 2
}
